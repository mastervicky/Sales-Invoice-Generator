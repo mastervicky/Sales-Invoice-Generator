{
 "cells": [
  {
   "cell_type": "markdown",
   "id": "b4f836df",
   "metadata": {},
   "source": [
    "# Sales Invoice Generator"
   ]
  },
  {
   "cell_type": "code",
   "execution_count": 2,
   "id": "80c5d58e",
   "metadata": {},
   "outputs": [],
   "source": [
    "import streamlit as st\n",
    "import qrcode\n",
    "from io import BytesIO\n",
    "from PIL import Image\n",
    "from datetime import datetime\n",
    "\n",
    "# ---configuration---\n",
    "VAT_RATE = 0.075\n",
    "currencies = {\"Naira\": \"₦\", \"Dollar\": \"$\", \"Euro\": \"€\"}\n",
    "languages = [\"English\", \"French\"]  # Fixed typo here\n",
    "\n",
    "# --- Functions ---\n",
    "def generate_qr_code(purchase_address, date):\n",
    "    qr_text = f\"Purchase Location: {purchase_address}\\nDate: {date}\"\n",
    "    qr = qrcode.make(qr_text)\n",
    "    buffer = BytesIO()\n",
    "    qr.save(buffer, format=\"PNG\")   \n",
    "    return buffer.getvalue()\n",
    "\n",
    "def calculate_vat_and_total(amount):\n",
    "    vat = amount * VAT_RATE\n",
    "    total_amount = amount + vat\n",
    "    return vat, total_amount"
   ]
  },
  {
   "cell_type": "markdown",
   "id": "8b3842ba",
   "metadata": {},
   "source": [
    "Streamlit UI"
   ]
  },
  {
   "cell_type": "code",
   "execution_count": 3,
   "id": "26c2d193",
   "metadata": {},
   "outputs": [
    {
     "name": "stderr",
     "output_type": "stream",
     "text": [
      "2025-08-02 22:23:29.953 WARNING streamlit.runtime.scriptrunner_utils.script_run_context: Thread 'MainThread': missing ScriptRunContext! This warning can be ignored when running in bare mode.\n",
      "2025-08-02 22:23:29.955 WARNING streamlit.runtime.scriptrunner_utils.script_run_context: Thread 'MainThread': missing ScriptRunContext! This warning can be ignored when running in bare mode.\n",
      "2025-08-02 22:23:30.490 \n",
      "  \u001b[33m\u001b[1mWarning:\u001b[0m to view this Streamlit app on a browser, run it with the following\n",
      "  command:\n",
      "\n",
      "    streamlit run c:\\Users\\DELL\\Desktop\\MY Code works\\.venv\\Lib\\site-packages\\ipykernel_launcher.py [ARGUMENTS]\n",
      "2025-08-02 22:23:30.490 Thread 'MainThread': missing ScriptRunContext! This warning can be ignored when running in bare mode.\n",
      "2025-08-02 22:23:30.491 Thread 'MainThread': missing ScriptRunContext! This warning can be ignored when running in bare mode.\n",
      "2025-08-02 22:23:30.492 Thread 'MainThread': missing ScriptRunContext! This warning can be ignored when running in bare mode.\n",
      "2025-08-02 22:23:30.493 Thread 'MainThread': missing ScriptRunContext! This warning can be ignored when running in bare mode.\n",
      "2025-08-02 22:23:30.494 Thread 'MainThread': missing ScriptRunContext! This warning can be ignored when running in bare mode.\n",
      "2025-08-02 22:23:30.495 Thread 'MainThread': missing ScriptRunContext! This warning can be ignored when running in bare mode.\n",
      "2025-08-02 22:23:30.496 Thread 'MainThread': missing ScriptRunContext! This warning can be ignored when running in bare mode.\n",
      "2025-08-02 22:23:30.497 Thread 'MainThread': missing ScriptRunContext! This warning can be ignored when running in bare mode.\n",
      "2025-08-02 22:23:30.498 Thread 'MainThread': missing ScriptRunContext! This warning can be ignored when running in bare mode.\n",
      "2025-08-02 22:23:30.498 Session state does not function when running a script without `streamlit run`\n",
      "2025-08-02 22:23:30.499 Thread 'MainThread': missing ScriptRunContext! This warning can be ignored when running in bare mode.\n",
      "2025-08-02 22:23:30.499 Thread 'MainThread': missing ScriptRunContext! This warning can be ignored when running in bare mode.\n",
      "2025-08-02 22:23:30.500 Thread 'MainThread': missing ScriptRunContext! This warning can be ignored when running in bare mode.\n",
      "2025-08-02 22:23:30.501 Thread 'MainThread': missing ScriptRunContext! This warning can be ignored when running in bare mode.\n",
      "2025-08-02 22:23:30.501 Thread 'MainThread': missing ScriptRunContext! This warning can be ignored when running in bare mode.\n",
      "2025-08-02 22:23:30.502 Thread 'MainThread': missing ScriptRunContext! This warning can be ignored when running in bare mode.\n",
      "2025-08-02 22:23:30.502 Thread 'MainThread': missing ScriptRunContext! This warning can be ignored when running in bare mode.\n",
      "2025-08-02 22:23:30.503 Thread 'MainThread': missing ScriptRunContext! This warning can be ignored when running in bare mode.\n",
      "2025-08-02 22:23:30.504 Thread 'MainThread': missing ScriptRunContext! This warning can be ignored when running in bare mode.\n",
      "2025-08-02 22:23:30.505 Thread 'MainThread': missing ScriptRunContext! This warning can be ignored when running in bare mode.\n",
      "2025-08-02 22:23:30.505 Thread 'MainThread': missing ScriptRunContext! This warning can be ignored when running in bare mode.\n",
      "2025-08-02 22:23:30.506 Thread 'MainThread': missing ScriptRunContext! This warning can be ignored when running in bare mode.\n",
      "2025-08-02 22:23:30.506 Thread 'MainThread': missing ScriptRunContext! This warning can be ignored when running in bare mode.\n",
      "2025-08-02 22:23:30.507 Thread 'MainThread': missing ScriptRunContext! This warning can be ignored when running in bare mode.\n",
      "2025-08-02 22:23:30.508 Thread 'MainThread': missing ScriptRunContext! This warning can be ignored when running in bare mode.\n",
      "2025-08-02 22:23:30.508 Thread 'MainThread': missing ScriptRunContext! This warning can be ignored when running in bare mode.\n",
      "2025-08-02 22:23:30.509 Thread 'MainThread': missing ScriptRunContext! This warning can be ignored when running in bare mode.\n",
      "2025-08-02 22:23:30.509 Thread 'MainThread': missing ScriptRunContext! This warning can be ignored when running in bare mode.\n",
      "2025-08-02 22:23:30.510 Thread 'MainThread': missing ScriptRunContext! This warning can be ignored when running in bare mode.\n",
      "2025-08-02 22:23:30.510 Thread 'MainThread': missing ScriptRunContext! This warning can be ignored when running in bare mode.\n",
      "2025-08-02 22:23:30.511 Thread 'MainThread': missing ScriptRunContext! This warning can be ignored when running in bare mode.\n",
      "2025-08-02 22:23:30.512 Thread 'MainThread': missing ScriptRunContext! This warning can be ignored when running in bare mode.\n",
      "2025-08-02 22:23:30.513 Thread 'MainThread': missing ScriptRunContext! This warning can be ignored when running in bare mode.\n",
      "2025-08-02 22:23:30.514 Thread 'MainThread': missing ScriptRunContext! This warning can be ignored when running in bare mode.\n",
      "2025-08-02 22:23:30.515 Thread 'MainThread': missing ScriptRunContext! This warning can be ignored when running in bare mode.\n",
      "2025-08-02 22:23:30.516 Thread 'MainThread': missing ScriptRunContext! This warning can be ignored when running in bare mode.\n",
      "2025-08-02 22:23:30.516 Thread 'MainThread': missing ScriptRunContext! This warning can be ignored when running in bare mode.\n",
      "2025-08-02 22:23:30.517 Thread 'MainThread': missing ScriptRunContext! This warning can be ignored when running in bare mode.\n",
      "2025-08-02 22:23:30.517 Thread 'MainThread': missing ScriptRunContext! This warning can be ignored when running in bare mode.\n",
      "2025-08-02 22:23:30.518 Thread 'MainThread': missing ScriptRunContext! This warning can be ignored when running in bare mode.\n",
      "2025-08-02 22:23:30.518 Thread 'MainThread': missing ScriptRunContext! This warning can be ignored when running in bare mode.\n",
      "2025-08-02 22:23:30.519 Thread 'MainThread': missing ScriptRunContext! This warning can be ignored when running in bare mode.\n",
      "2025-08-02 22:23:30.519 Thread 'MainThread': missing ScriptRunContext! This warning can be ignored when running in bare mode.\n",
      "2025-08-02 22:23:30.520 Thread 'MainThread': missing ScriptRunContext! This warning can be ignored when running in bare mode.\n",
      "2025-08-02 22:23:30.520 Thread 'MainThread': missing ScriptRunContext! This warning can be ignored when running in bare mode.\n",
      "2025-08-02 22:23:30.521 Thread 'MainThread': missing ScriptRunContext! This warning can be ignored when running in bare mode.\n",
      "2025-08-02 22:23:30.521 Thread 'MainThread': missing ScriptRunContext! This warning can be ignored when running in bare mode.\n",
      "2025-08-02 22:23:30.522 Thread 'MainThread': missing ScriptRunContext! This warning can be ignored when running in bare mode.\n",
      "2025-08-02 22:23:30.523 Thread 'MainThread': missing ScriptRunContext! This warning can be ignored when running in bare mode.\n",
      "2025-08-02 22:23:30.523 Thread 'MainThread': missing ScriptRunContext! This warning can be ignored when running in bare mode.\n",
      "2025-08-02 22:23:30.524 Thread 'MainThread': missing ScriptRunContext! This warning can be ignored when running in bare mode.\n",
      "2025-08-02 22:23:30.524 Thread 'MainThread': missing ScriptRunContext! This warning can be ignored when running in bare mode.\n",
      "2025-08-02 22:23:30.525 Thread 'MainThread': missing ScriptRunContext! This warning can be ignored when running in bare mode.\n",
      "2025-08-02 22:23:30.525 Thread 'MainThread': missing ScriptRunContext! This warning can be ignored when running in bare mode.\n"
     ]
    }
   ],
   "source": [
    "# --- Streamlit UI ---\n",
    "st.set_page_config(page_title=\"sales invoice App\", layout= \"centered\")\n",
    "st.title(\"Sales Invoice Generator\")\n",
    "\n",
    "# --- Sidebar Details ---\n",
    "st.sidebar.header(\"Business Details\")\n",
    "business_name = st.sidebar.text_input(\"Business Name\", \"Your Business Name\")\n",
    "business_address = st.sidebar.text_input(\"Address\", \"Your Business Address\")\n",
    "phone = st.sidebar.text_input(\"Phone Number\", \"Your Phone Number\")\n",
    "email = st.sidebar.text_input(\"Email\", \"Your Email Address\")    \n",
    "logo = st.sidebar.file_uploader(\"Upload Logo\", type=[\"png\", \"jpg\", \"jpeg\"])\n",
    "\n",
    "# --- Language and Currency Selection ---\n",
    "languages = st.selectbox(\"Select Language\", languages)\n",
    "currency_lable = st.selectbox(\"Select Currency\", list(currencies.keys()))\n",
    "currency_symbol = currencies[currency_lable]\n"
   ]
  },
  {
   "cell_type": "markdown",
   "id": "8cbb51bc",
   "metadata": {},
   "source": [
    "Sales Entery"
   ]
  },
  {
   "cell_type": "code",
   "execution_count": 4,
   "id": "7add8a63",
   "metadata": {},
   "outputs": [
    {
     "name": "stderr",
     "output_type": "stream",
     "text": [
      "2025-08-02 22:23:30.541 Thread 'MainThread': missing ScriptRunContext! This warning can be ignored when running in bare mode.\n",
      "2025-08-02 22:23:30.542 Thread 'MainThread': missing ScriptRunContext! This warning can be ignored when running in bare mode.\n",
      "2025-08-02 22:23:30.543 Thread 'MainThread': missing ScriptRunContext! This warning can be ignored when running in bare mode.\n",
      "2025-08-02 22:23:30.544 Thread 'MainThread': missing ScriptRunContext! This warning can be ignored when running in bare mode.\n",
      "2025-08-02 22:23:30.546 Thread 'MainThread': missing ScriptRunContext! This warning can be ignored when running in bare mode.\n",
      "2025-08-02 22:23:30.547 Thread 'MainThread': missing ScriptRunContext! This warning can be ignored when running in bare mode.\n",
      "2025-08-02 22:23:30.547 Thread 'MainThread': missing ScriptRunContext! This warning can be ignored when running in bare mode.\n",
      "2025-08-02 22:23:30.549 Thread 'MainThread': missing ScriptRunContext! This warning can be ignored when running in bare mode.\n",
      "2025-08-02 22:23:30.550 Thread 'MainThread': missing ScriptRunContext! This warning can be ignored when running in bare mode.\n",
      "2025-08-02 22:23:30.551 Thread 'MainThread': missing ScriptRunContext! This warning can be ignored when running in bare mode.\n",
      "2025-08-02 22:23:30.552 Thread 'MainThread': missing ScriptRunContext! This warning can be ignored when running in bare mode.\n",
      "2025-08-02 22:23:30.553 Thread 'MainThread': missing ScriptRunContext! This warning can be ignored when running in bare mode.\n",
      "2025-08-02 22:23:30.553 Thread 'MainThread': missing ScriptRunContext! This warning can be ignored when running in bare mode.\n",
      "2025-08-02 22:23:30.554 Thread 'MainThread': missing ScriptRunContext! This warning can be ignored when running in bare mode.\n",
      "2025-08-02 22:23:30.555 Thread 'MainThread': missing ScriptRunContext! This warning can be ignored when running in bare mode.\n",
      "2025-08-02 22:23:30.556 Thread 'MainThread': missing ScriptRunContext! This warning can be ignored when running in bare mode.\n",
      "2025-08-02 22:23:30.556 Thread 'MainThread': missing ScriptRunContext! This warning can be ignored when running in bare mode.\n",
      "2025-08-02 22:23:30.557 Thread 'MainThread': missing ScriptRunContext! This warning can be ignored when running in bare mode.\n",
      "2025-08-02 22:23:30.557 Thread 'MainThread': missing ScriptRunContext! This warning can be ignored when running in bare mode.\n",
      "2025-08-02 22:23:30.558 Thread 'MainThread': missing ScriptRunContext! This warning can be ignored when running in bare mode.\n",
      "2025-08-02 22:23:30.559 Thread 'MainThread': missing ScriptRunContext! This warning can be ignored when running in bare mode.\n",
      "2025-08-02 22:23:30.559 Thread 'MainThread': missing ScriptRunContext! This warning can be ignored when running in bare mode.\n",
      "2025-08-02 22:23:30.560 Thread 'MainThread': missing ScriptRunContext! This warning can be ignored when running in bare mode.\n",
      "2025-08-02 22:23:30.561 Thread 'MainThread': missing ScriptRunContext! This warning can be ignored when running in bare mode.\n",
      "2025-08-02 22:23:30.561 Thread 'MainThread': missing ScriptRunContext! This warning can be ignored when running in bare mode.\n",
      "2025-08-02 22:23:30.562 Thread 'MainThread': missing ScriptRunContext! This warning can be ignored when running in bare mode.\n",
      "2025-08-02 22:23:30.563 Thread 'MainThread': missing ScriptRunContext! This warning can be ignored when running in bare mode.\n",
      "2025-08-02 22:23:30.564 Thread 'MainThread': missing ScriptRunContext! This warning can be ignored when running in bare mode.\n",
      "2025-08-02 22:23:30.564 Thread 'MainThread': missing ScriptRunContext! This warning can be ignored when running in bare mode.\n",
      "2025-08-02 22:23:30.565 Thread 'MainThread': missing ScriptRunContext! This warning can be ignored when running in bare mode.\n",
      "2025-08-02 22:23:30.565 Thread 'MainThread': missing ScriptRunContext! This warning can be ignored when running in bare mode.\n",
      "2025-08-02 22:23:30.566 Thread 'MainThread': missing ScriptRunContext! This warning can be ignored when running in bare mode.\n",
      "2025-08-02 22:23:30.566 Thread 'MainThread': missing ScriptRunContext! This warning can be ignored when running in bare mode.\n",
      "2025-08-02 22:23:30.567 Thread 'MainThread': missing ScriptRunContext! This warning can be ignored when running in bare mode.\n",
      "2025-08-02 22:23:30.567 Thread 'MainThread': missing ScriptRunContext! This warning can be ignored when running in bare mode.\n",
      "2025-08-02 22:23:30.568 Thread 'MainThread': missing ScriptRunContext! This warning can be ignored when running in bare mode.\n",
      "2025-08-02 22:23:30.568 Thread 'MainThread': missing ScriptRunContext! This warning can be ignored when running in bare mode.\n",
      "2025-08-02 22:23:30.569 Thread 'MainThread': missing ScriptRunContext! This warning can be ignored when running in bare mode.\n",
      "2025-08-02 22:23:30.569 Thread 'MainThread': missing ScriptRunContext! This warning can be ignored when running in bare mode.\n",
      "2025-08-02 22:23:30.570 Thread 'MainThread': missing ScriptRunContext! This warning can be ignored when running in bare mode.\n",
      "2025-08-02 22:23:30.571 Thread 'MainThread': missing ScriptRunContext! This warning can be ignored when running in bare mode.\n",
      "2025-08-02 22:23:30.571 Thread 'MainThread': missing ScriptRunContext! This warning can be ignored when running in bare mode.\n",
      "2025-08-02 22:23:30.572 Thread 'MainThread': missing ScriptRunContext! This warning can be ignored when running in bare mode.\n",
      "2025-08-02 22:23:30.572 Thread 'MainThread': missing ScriptRunContext! This warning can be ignored when running in bare mode.\n",
      "2025-08-02 22:23:30.573 Thread 'MainThread': missing ScriptRunContext! This warning can be ignored when running in bare mode.\n",
      "2025-08-02 22:23:30.573 Thread 'MainThread': missing ScriptRunContext! This warning can be ignored when running in bare mode.\n",
      "2025-08-02 22:23:30.574 Thread 'MainThread': missing ScriptRunContext! This warning can be ignored when running in bare mode.\n",
      "2025-08-02 22:23:30.574 Thread 'MainThread': missing ScriptRunContext! This warning can be ignored when running in bare mode.\n",
      "2025-08-02 22:23:30.575 Thread 'MainThread': missing ScriptRunContext! This warning can be ignored when running in bare mode.\n",
      "2025-08-02 22:23:30.575 Thread 'MainThread': missing ScriptRunContext! This warning can be ignored when running in bare mode.\n",
      "2025-08-02 22:23:30.576 Thread 'MainThread': missing ScriptRunContext! This warning can be ignored when running in bare mode.\n",
      "2025-08-02 22:23:30.576 Thread 'MainThread': missing ScriptRunContext! This warning can be ignored when running in bare mode.\n",
      "2025-08-02 22:23:30.577 Thread 'MainThread': missing ScriptRunContext! This warning can be ignored when running in bare mode.\n",
      "2025-08-02 22:23:30.577 Thread 'MainThread': missing ScriptRunContext! This warning can be ignored when running in bare mode.\n"
     ]
    }
   ],
   "source": [
    "# --- Customer & Sales Entry ---\n",
    "st.subheader(\"Customer Details\")\n",
    "customer_name = st.text_input(\"Customer Name\")\n",
    "purchase_address = st.text_input(\"purchase Address\")\n",
    "date_of_purchase = st.date_input(\"Date of Purchase\", value=datetime.today())\n",
    "st.subheader(\"Item Entry\")\n",
    "item_name = st.text_input(\"Item Name\")\n",
    "item_quantity = st.number_input(\"Item Quantity\", min_value=1, value=1)\n",
    "unit_price = st.number_input(\"Unit Price\", min_value=0.0, value=0.0, step=0.01)\n",
    "\n",
    "# --- Financial Calculations ---\n",
    "subtotal = item_quantity * unit_price\n",
    "vat, total = calculate_vat_and_total(subtotal)\n",
    "amount_paid = st.number_input(\"Amount Paid\", min_value=0.0, value=0.0, step=0.01)\n",
    "balance = total - amount_paid\n",
    "\n",
    "# --- QR Code Generation ---\n",
    "qr_code_data = generate_qr_code(purchase_address, date_of_purchase.strftime('%Y-%m-%d'))"
   ]
  },
  {
   "cell_type": "markdown",
   "id": "713e2e4b",
   "metadata": {},
   "source": [
    "Invoice Display"
   ]
  },
  {
   "cell_type": "code",
   "execution_count": 5,
   "id": "45dbc552",
   "metadata": {},
   "outputs": [
    {
     "name": "stderr",
     "output_type": "stream",
     "text": [
      "2025-08-02 22:23:30.617 Thread 'MainThread': missing ScriptRunContext! This warning can be ignored when running in bare mode.\n",
      "2025-08-02 22:23:30.618 Thread 'MainThread': missing ScriptRunContext! This warning can be ignored when running in bare mode.\n",
      "2025-08-02 22:23:30.620 Thread 'MainThread': missing ScriptRunContext! This warning can be ignored when running in bare mode.\n",
      "2025-08-02 22:23:30.621 Thread 'MainThread': missing ScriptRunContext! This warning can be ignored when running in bare mode.\n",
      "2025-08-02 22:23:30.622 Thread 'MainThread': missing ScriptRunContext! This warning can be ignored when running in bare mode.\n",
      "2025-08-02 22:23:30.622 Thread 'MainThread': missing ScriptRunContext! This warning can be ignored when running in bare mode.\n"
     ]
    }
   ],
   "source": [
    "# --- Display Invoice ---\n",
    "if st.button(\"Generate Invoice\"):\n",
    "    st.subheader(\"invoice preview\")\n",
    "    if logo:\n",
    "        logo_image = Image.open(logo)\n",
    "        st.image(logo_image, width=150)\n",
    "    st.markdown(f\"**Business Name:** {business_name}\")\n",
    "    st.markdown(f\"**Business Address:** {business_address}\")\n",
    "    st.markdown(f\"**Phone:** {phone}\")\n",
    "    st.markdown(f\"**Email:** {email}\")\n",
    "    st.divider()\n",
    "    st.markdown(f\"**Customer Name:** {customer_name}\")\n",
    "    st.markdown(f\"**Item Name:** {item_name}\")\n",
    "    st.markdown(f\"**Item Quantity:** {item_quantity}\")\n",
    "    st.markdown(f\"**Unit Price:** {currency_symbol}{unit_price:.2f}\")\n",
    "    st.markdown(f\"**Subtotal:** {currency_symbol}{subtotal:.2f}\")\n",
    "    st.markdown(f\"**VAT (7.5%):** {currency_symbol}{vat:.2f}\")\n",
    "    st.markdown(f\"**Total:** {currency_symbol}{total:.2f}\")\n",
    "    st.markdown(f\"**Amount Paid:** {currency_symbol}{amount_paid:.2f}\")\n",
    "    st.markdown(f\"**Balance:** {currency_symbol}{balance:.2f}\") \n",
    "    st.divider()\n",
    "    st.image(qr_code_data, caption=\"Scan QR code to verify location and date of purchase\", width=200)\n",
    "    st.markdown(f\"**Purchase Location:** {purchase_address}\")\n",
    "    st.markdown(f\"**Date of Purchase:** {date_of_purchase.strftime('%Y-%m-%d')}\")\n",
    "    st.success(\"Invoice generated successfully!\")"
   ]
  }
 ],
 "metadata": {
  "kernelspec": {
   "display_name": ".venv",
   "language": "python",
   "name": "python3"
  },
  "language_info": {
   "codemirror_mode": {
    "name": "ipython",
    "version": 3
   },
   "file_extension": ".py",
   "mimetype": "text/x-python",
   "name": "python",
   "nbconvert_exporter": "python",
   "pygments_lexer": "ipython3",
   "version": "3.13.5"
  }
 },
 "nbformat": 4,
 "nbformat_minor": 5
}
